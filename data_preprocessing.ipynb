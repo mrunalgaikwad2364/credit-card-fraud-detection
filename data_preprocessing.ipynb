{
 "cells": [
  {
   "cell_type": "code",
   "execution_count": 1,
   "id": "a139dc6e",
   "metadata": {},
   "outputs": [
    {
     "name": "stdout",
     "output_type": "stream",
     "text": [
      "✅ Data cleaning completed. Clean file saved as 'clean_fraud_dataset.csv'\n"
     ]
    }
   ],
   "source": [
    "import pandas as pd\n",
    "\n",
    "# Load dataset (adjust path as needed)\n",
    "df = pd.read_csv('Dataset/fraudTest.csv')\n",
    "\n",
    "# Show first few rows\n",
    "df.head()\n",
    "\n",
    "# Drop unnecessary columns with errors ignored\n",
    "df = df.drop(columns=['first', 'last', 'street', 'cc_num', 'trans_datetime', 'dob'], errors='ignore')\n",
    "\n",
    "# Check for missing values\n",
    "df.isnull().sum()\n",
    "\n",
    "# Fill or drop missing values (modify based on your dataset)\n",
    "df = df.dropna()\n",
    "\n",
    "# Encode categorical variables\n",
    "df = pd.get_dummies(df, columns=['category', 'gender', 'state'], drop_first=True)\n",
    "\n",
    "# Final dataset shape\n",
    "df.shape\n",
    "\n",
    "# Save clean dataset\n",
    "df.to_csv('clean_fraud_dataset.csv', index=False)\n",
    "\n",
    "print(\"✅ Data cleaning completed. Clean file saved as 'clean_fraud_dataset.csv'\")"
   ]
  }
 ],
 "metadata": {
  "kernelspec": {
   "display_name": "Python 3",
   "language": "python",
   "name": "python3"
  },
  "language_info": {
   "codemirror_mode": {
    "name": "ipython",
    "version": 3
   },
   "file_extension": ".py",
   "mimetype": "text/x-python",
   "name": "python",
   "nbconvert_exporter": "python",
   "pygments_lexer": "ipython3",
   "version": "3.12.6"
  }
 },
 "nbformat": 4,
 "nbformat_minor": 5
}
