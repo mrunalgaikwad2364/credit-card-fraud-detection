{
 "cells": [
  {
   "cell_type": "code",
   "execution_count": 4,
   "id": "712f2db3",
   "metadata": {},
   "outputs": [],
   "source": [
    "import pandas as pd\n",
    "from sklearn.model_selection import train_test_split\n",
    "from imblearn.over_sampling import SMOTE\n",
    "from xgboost import XGBClassifier\n",
    "from sklearn.metrics import classification_report, confusion_matrix, roc_auc_score\n",
    "import joblib\n",
    "\n",
    "# Load clean dataset\n",
    "df = pd.read_csv('Dataset/clean_fraud_dataset.csv')"
   ]
  },
  {
   "cell_type": "code",
   "execution_count": 5,
   "id": "7fe9269c",
   "metadata": {},
   "outputs": [
    {
     "name": "stdout",
     "output_type": "stream",
     "text": [
      "✅ SMOTE applied successfully. Proceed to model training.\n"
     ]
    }
   ],
   "source": [
    "# Features & Target\n",
    "X = df.drop(columns=['is_fraud', 'trans_date_trans_time', 'merchant', 'city'], errors='ignore')\n",
    "X = X.select_dtypes(include=['number'])  # Ensures only numeric columns remain\n",
    "y = df['is_fraud']\n",
    "\n",
    "# Train-test split\n",
    "X_train, X_test, y_train, y_test = train_test_split(X, y, stratify=y, test_size=0.3, random_state=42)\n",
    "\n",
    "# Handle Imbalance with SMOTE\n",
    "smote = SMOTE(random_state=42)\n",
    "X_train_res, y_train_res = smote.fit_resample(X_train, y_train)\n",
    "\n",
    "print(\"✅ SMOTE applied successfully. Proceed to model training.\")"
   ]
  },
  {
   "cell_type": "code",
   "execution_count": 6,
   "id": "eaebd14b",
   "metadata": {},
   "outputs": [
    {
     "name": "stderr",
     "output_type": "stream",
     "text": [
      "C:\\Users\\Mrunal\\AppData\\Roaming\\Python\\Python312\\site-packages\\xgboost\\training.py:183: UserWarning: [19:09:40] WARNING: C:\\actions-runner\\_work\\xgboost\\xgboost\\src\\learner.cc:738: \n",
      "Parameters: { \"use_label_encoder\" } are not used.\n",
      "\n",
      "  bst.update(dtrain, iteration=i, fobj=obj)\n"
     ]
    },
    {
     "name": "stdout",
     "output_type": "stream",
     "text": [
      "✅ Feature list saved as 'feature_list.pkl'\n",
      "Classification Report:\n",
      "               precision    recall  f1-score   support\n",
      "\n",
      "           0       1.00      0.99      0.99    166072\n",
      "           1       0.21      0.87      0.33       644\n",
      "\n",
      "    accuracy                           0.99    166716\n",
      "   macro avg       0.60      0.93      0.66    166716\n",
      "weighted avg       1.00      0.99      0.99    166716\n",
      "\n",
      "\n",
      "Confusion Matrix:\n",
      " [[163907   2165]\n",
      " [    81    563]]\n",
      "\n",
      "ROC AUC Score: 0.9305935441007552\n"
     ]
    }
   ],
   "source": [
    "# Train XGBoost model\n",
    "model = XGBClassifier(use_label_encoder=False, eval_metric='logloss', random_state=42)\n",
    "model.fit(X_train_res, y_train_res)\n",
    "\n",
    "# Save the list of final feature columns\n",
    "joblib.dump(X_train_res.columns.tolist(), 'feature_list.pkl')\n",
    "print(\"✅ Feature list saved as 'feature_list.pkl'\")\n",
    "\n",
    "# Predictions\n",
    "y_pred = model.predict(X_test)\n",
    "\n",
    "# Evaluation\n",
    "print(\"Classification Report:\\n\", classification_report(y_test, y_pred))\n",
    "print(\"\\nConfusion Matrix:\\n\", confusion_matrix(y_test, y_pred))\n",
    "print(\"\\nROC AUC Score:\", roc_auc_score(y_test, y_pred))"
   ]
  },
  {
   "cell_type": "code",
   "execution_count": 7,
   "id": "743ad3c0",
   "metadata": {},
   "outputs": [
    {
     "name": "stdout",
     "output_type": "stream",
     "text": [
      "✅ Model trained and saved as 'trained_model.pkl'\n"
     ]
    }
   ],
   "source": [
    "# Save Model\n",
    "joblib.dump(model, 'trained_model.pkl')\n",
    "print(\"✅ Model trained and saved as 'trained_model.pkl'\")"
   ]
  }
 ],
 "metadata": {
  "kernelspec": {
   "display_name": "Python 3",
   "language": "python",
   "name": "python3"
  },
  "language_info": {
   "codemirror_mode": {
    "name": "ipython",
    "version": 3
   },
   "file_extension": ".py",
   "mimetype": "text/x-python",
   "name": "python",
   "nbconvert_exporter": "python",
   "pygments_lexer": "ipython3",
   "version": "3.12.6"
  }
 },
 "nbformat": 4,
 "nbformat_minor": 5
}
